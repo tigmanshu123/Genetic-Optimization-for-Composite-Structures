{
 "cells": [
  {
   "cell_type": "code",
   "execution_count": 4,
   "id": "621a6e7b-fb6a-4b95-8d6c-2dcee7c8997a",
   "metadata": {},
   "outputs": [
    {
     "name": "stdout",
     "output_type": "stream",
     "text": [
      "Final Best Laminate Design: [('Kevlar Epoxy', 90, 0.13256690952459405), ('Kevlar Epoxy', 60, 0.10072498302268938), ('Kevlar Epoxy', 15, 0.15834082632580782), ('Kevlar Epoxy', 60, 0.10957828021589054)]\n",
      "Final Weight: 6785.294263466817\n",
      "Final Cost: 22.0532839599152\n",
      "Total run time: 187.19 seconds\n"
     ]
    },
    {
     "data": {
      "text/plain": [
       "[('Kevlar Epoxy', 90, 0.13256690952459405),\n",
       " ('Kevlar Epoxy', 60, 0.10072498302268938),\n",
       " ('Kevlar Epoxy', 15, 0.15834082632580782),\n",
       " ('Kevlar Epoxy', 60, 0.10957828021589054)]"
      ]
     },
     "execution_count": 4,
     "metadata": {},
     "output_type": "execute_result"
    }
   ],
   "source": [
    "%run \"Function Definitions.py\""
   ]
  },
  {
   "cell_type": "code",
   "execution_count": null,
   "id": "3d63314e",
   "metadata": {},
   "outputs": [],
   "source": []
  }
 ],
 "metadata": {
  "kernelspec": {
   "display_name": "base",
   "language": "python",
   "name": "python3"
  },
  "language_info": {
   "codemirror_mode": {
    "name": "ipython",
    "version": 3
   },
   "file_extension": ".py",
   "mimetype": "text/x-python",
   "name": "python",
   "nbconvert_exporter": "python",
   "pygments_lexer": "ipython3",
   "version": "3.11.7"
  }
 },
 "nbformat": 4,
 "nbformat_minor": 5
}
