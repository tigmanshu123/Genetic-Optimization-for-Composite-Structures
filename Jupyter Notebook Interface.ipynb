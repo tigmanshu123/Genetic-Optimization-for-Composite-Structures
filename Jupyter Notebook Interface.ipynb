{
 "cells": [
  {
   "cell_type": "code",
   "execution_count": 2,
   "id": "621a6e7b-fb6a-4b95-8d6c-2dcee7c8997a",
   "metadata": {},
   "outputs": [
    {
     "name": "stdout",
     "output_type": "stream",
     "text": [
      "\n",
      "Best laminate of generation 1: [('Kevlar Epoxy', 0, 0.42680545625662003), ('Carbon Epoxy', 0, 0.30072007712457915), ('Kevlar Epoxy', 0, 0.45988537929202655), ('Glass Epoxy', 0, 0.19020950893040528)]\n",
      "Weight: 20457.544722057126, Cost: 51.74241462992935\n",
      "\n",
      "Best laminate of generation 2: [('Kevlar Epoxy', 0, 0.42680545625662003), ('Carbon Epoxy', 0, 0.30072007712457915), ('Kevlar Epoxy', 0, 0.45988537929202655), ('Glass Epoxy', 0, 0.19020950893040528)]\n",
      "Weight: 20457.544722057126, Cost: 51.74241462992935\n",
      "\n",
      "Best laminate of generation 3: [('Kevlar Epoxy', 0, 0.42680545625662003), ('Kevlar Epoxy', 0, 0.23962287473360921), ('Kevlar Epoxy', 0, 0.45988537929202655), ('Glass Epoxy', 0, 0.19020950893040528)]\n",
      "Weight: 18966.658625295426, Cost: 51.4598983417233\n"
     ]
    },
    {
     "ename": "KeyboardInterrupt",
     "evalue": "",
     "output_type": "error",
     "traceback": [
      "\u001b[1;31m---------------------------------------------------------------------------\u001b[0m",
      "\u001b[1;31mKeyboardInterrupt\u001b[0m                         Traceback (most recent call last)",
      "Cell \u001b[1;32mIn[2], line 3\u001b[0m\n\u001b[0;32m      1\u001b[0m \u001b[38;5;66;03m# Import and run the script\u001b[39;00m\n\u001b[0;32m      2\u001b[0m get_ipython()\u001b[38;5;241m.\u001b[39mrun_line_magic(\u001b[38;5;124m'\u001b[39m\u001b[38;5;124mrun\u001b[39m\u001b[38;5;124m'\u001b[39m, \u001b[38;5;124m'\u001b[39m\u001b[38;5;124m\"\u001b[39m\u001b[38;5;124mFunction Definitions.py\u001b[39m\u001b[38;5;124m\"\u001b[39m\u001b[38;5;124m'\u001b[39m)\n\u001b[1;32m----> 3\u001b[0m genetic_algorithm(population_size\u001b[38;5;241m=\u001b[39m\u001b[38;5;241m500\u001b[39m, generations\u001b[38;5;241m=\u001b[39m\u001b[38;5;241m500\u001b[39m, cost_param\u001b[38;5;241m=\u001b[39m\u001b[38;5;241m0.5\u001b[39m)\n",
      "File \u001b[1;32mG:\\My Drive\\Tigmanshu Documents\\Learning\\My GitHub Files\\My Coding Projects\\Boeing Internship 2012\\Function Definitions.py:268\u001b[0m, in \u001b[0;36mgenetic_algorithm\u001b[1;34m(population_size, generations, cost_param)\u001b[0m\n\u001b[0;32m    263\u001b[0m cost_evolution \u001b[38;5;241m=\u001b[39m []\n\u001b[0;32m    265\u001b[0m \u001b[38;5;28;01mfor\u001b[39;00m generation \u001b[38;5;129;01min\u001b[39;00m \u001b[38;5;28mrange\u001b[39m(generations):\n\u001b[0;32m    266\u001b[0m \n\u001b[0;32m    267\u001b[0m     \u001b[38;5;66;03m# Evaluate fitness of the population without multiprocessing\u001b[39;00m\n\u001b[1;32m--> 268\u001b[0m     fitness_values \u001b[38;5;241m=\u001b[39m [fitness_function(laminate, cost_param) \u001b[38;5;28;01mfor\u001b[39;00m laminate \u001b[38;5;129;01min\u001b[39;00m population]\n\u001b[0;32m    270\u001b[0m     \u001b[38;5;66;03m# Sort population based on fitness values (lower is better)\u001b[39;00m\n\u001b[0;32m    271\u001b[0m     sorted_population \u001b[38;5;241m=\u001b[39m [x \u001b[38;5;28;01mfor\u001b[39;00m _, x \u001b[38;5;129;01min\u001b[39;00m \u001b[38;5;28msorted\u001b[39m(\u001b[38;5;28mzip\u001b[39m(fitness_values, population))]\n",
      "File \u001b[1;32mG:\\My Drive\\Tigmanshu Documents\\Learning\\My GitHub Files\\My Coding Projects\\Boeing Internship 2012\\Function Definitions.py:268\u001b[0m, in \u001b[0;36m<listcomp>\u001b[1;34m(.0)\u001b[0m\n\u001b[0;32m    263\u001b[0m cost_evolution \u001b[38;5;241m=\u001b[39m []\n\u001b[0;32m    265\u001b[0m \u001b[38;5;28;01mfor\u001b[39;00m generation \u001b[38;5;129;01min\u001b[39;00m \u001b[38;5;28mrange\u001b[39m(generations):\n\u001b[0;32m    266\u001b[0m \n\u001b[0;32m    267\u001b[0m     \u001b[38;5;66;03m# Evaluate fitness of the population without multiprocessing\u001b[39;00m\n\u001b[1;32m--> 268\u001b[0m     fitness_values \u001b[38;5;241m=\u001b[39m [fitness_function(laminate, cost_param) \u001b[38;5;28;01mfor\u001b[39;00m laminate \u001b[38;5;129;01min\u001b[39;00m population]\n\u001b[0;32m    270\u001b[0m     \u001b[38;5;66;03m# Sort population based on fitness values (lower is better)\u001b[39;00m\n\u001b[0;32m    271\u001b[0m     sorted_population \u001b[38;5;241m=\u001b[39m [x \u001b[38;5;28;01mfor\u001b[39;00m _, x \u001b[38;5;129;01min\u001b[39;00m \u001b[38;5;28msorted\u001b[39m(\u001b[38;5;28mzip\u001b[39m(fitness_values, population))]\n",
      "File \u001b[1;32mG:\\My Drive\\Tigmanshu Documents\\Learning\\My GitHub Files\\My Coding Projects\\Boeing Internship 2012\\Function Definitions.py:82\u001b[0m, in \u001b[0;36mfitness_function\u001b[1;34m(laminate, alpha)\u001b[0m\n\u001b[0;32m     70\u001b[0m \u001b[38;5;250m\u001b[39m\u001b[38;5;124;03m\"\"\"\u001b[39;00m\n\u001b[0;32m     71\u001b[0m \u001b[38;5;124;03mCalculates the fitness score for the given laminate design.\u001b[39;00m\n\u001b[0;32m     72\u001b[0m \u001b[38;5;124;03mThe fitness is calculated as a weighted combination of cost and weight, penalizing unbalanced laminates.\u001b[39;00m\n\u001b[1;32m   (...)\u001b[0m\n\u001b[0;32m     79\u001b[0m \u001b[38;5;124;03m    float: The fitness value, where lower values are better.\u001b[39;00m\n\u001b[0;32m     80\u001b[0m \u001b[38;5;124;03m\"\"\"\u001b[39;00m\n\u001b[0;32m     81\u001b[0m weight \u001b[38;5;241m=\u001b[39m calculate_weight(laminate)\n\u001b[1;32m---> 82\u001b[0m cost \u001b[38;5;241m=\u001b[39m calculate_cost(laminate)\n\u001b[0;32m     83\u001b[0m penalty \u001b[38;5;241m=\u001b[39m \u001b[38;5;241m0\u001b[39m\n\u001b[0;32m     84\u001b[0m \u001b[38;5;28;01mif\u001b[39;00m \u001b[38;5;129;01mnot\u001b[39;00m is_balanced_laminate(laminate):\n",
      "File \u001b[1;32mG:\\My Drive\\Tigmanshu Documents\\Learning\\My GitHub Files\\My Coding Projects\\Boeing Internship 2012\\Function Definitions.py:59\u001b[0m, in \u001b[0;36mcalculate_cost\u001b[1;34m(laminate)\u001b[0m\n\u001b[0;32m     56\u001b[0m cost \u001b[38;5;241m=\u001b[39m \u001b[38;5;241m0\u001b[39m\n\u001b[0;32m     58\u001b[0m \u001b[38;5;66;03m# Load parameters from YAML file\u001b[39;00m\n\u001b[1;32m---> 59\u001b[0m \u001b[38;5;28;01mwith\u001b[39;00m \u001b[38;5;28mopen\u001b[39m(\u001b[38;5;124m'\u001b[39m\u001b[38;5;124mparameters.yml\u001b[39m\u001b[38;5;124m'\u001b[39m, \u001b[38;5;124m'\u001b[39m\u001b[38;5;124mr\u001b[39m\u001b[38;5;124m'\u001b[39m) \u001b[38;5;28;01mas\u001b[39;00m file:\n\u001b[0;32m     60\u001b[0m     params \u001b[38;5;241m=\u001b[39m yaml\u001b[38;5;241m.\u001b[39msafe_load(file)\n\u001b[0;32m     61\u001b[0m MATERIALS \u001b[38;5;241m=\u001b[39m params[\u001b[38;5;124m'\u001b[39m\u001b[38;5;124mmaterials\u001b[39m\u001b[38;5;124m'\u001b[39m]\n",
      "\u001b[1;31mKeyboardInterrupt\u001b[0m: "
     ]
    }
   ],
   "source": [
    "# Import and run the script\n",
    "%run \"Function Definitions.py\"\n",
    "genetic_algorithm(population_size=100, generations=100, cost_param=0.5)"
   ]
  },
  {
   "cell_type": "code",
   "execution_count": null,
   "id": "3d63314e",
   "metadata": {},
   "outputs": [],
   "source": []
  }
 ],
 "metadata": {
  "kernelspec": {
   "display_name": "base",
   "language": "python",
   "name": "python3"
  },
  "language_info": {
   "codemirror_mode": {
    "name": "ipython",
    "version": 3
   },
   "file_extension": ".py",
   "mimetype": "text/x-python",
   "name": "python",
   "nbconvert_exporter": "python",
   "pygments_lexer": "ipython3",
   "version": "3.11.7"
  }
 },
 "nbformat": 4,
 "nbformat_minor": 5
}
