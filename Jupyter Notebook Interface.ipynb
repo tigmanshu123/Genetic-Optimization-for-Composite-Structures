{
 "cells": [
  {
   "cell_type": "code",
   "execution_count": 81,
   "id": "621a6e7b-fb6a-4b95-8d6c-2dcee7c8997a",
   "metadata": {},
   "outputs": [
    {
     "name": "stdout",
     "output_type": "stream",
     "text": [
      "Final Best Laminate Design: [('Glass Epoxy', 30, 0.1599550563929939), ('Glass Epoxy', 45, 0.10680985941722497), ('Carbon Epoxy', 75, 0.20252546975462812), ('Kevlar Epoxy', 0, 0.1107939779963183), ('Carbon Epoxy', 15, 0.25814311268918916), ('Kevlar Epoxy', 30, 0.10151169652741597), ('Kevlar Epoxy', 0, 0.10563758413401336), ('Carbon Epoxy', 90, 0.13913777243161973), ('Kevlar Epoxy', 15, 0.24857805943714065), ('Kevlar Epoxy', 15, 0.13851269335565997), ('Carbon Epoxy', 45, 0.39502676899628664), ('Glass Epoxy', 45, 0.1845704785842146)]\n",
      "Final Weight: 34032.51395371743\n",
      "Final Cost: 71.34884290715051\n",
      "Total run time: 2 minutes and 37.65 seconds\n",
      "Unexpected exception formatting exception. Falling back to standard exception\n"
     ]
    },
    {
     "name": "stderr",
     "output_type": "stream",
     "text": [
      "Traceback (most recent call last):\n",
      "  File \"c:\\Users\\kaurm\\anaconda3\\Lib\\site-packages\\IPython\\core\\interactiveshell.py\", line 2908, in safe_execfile\n",
      "    py3compat.execfile(\n",
      "  File \"c:\\Users\\kaurm\\anaconda3\\Lib\\site-packages\\IPython\\utils\\py3compat.py\", line 55, in execfile\n",
      "    exec(compiler(f.read(), fname, \"exec\"), glob, loc)\n",
      "  File \"G:\\My Drive\\Tigmanshu Documents\\Learning\\My GitHub Files\\My Coding Projects\\Boeing Internship 2012\\Function Definitions.py\", line 611, in <module>\n",
      "    genetic_algorithm()\n",
      "  File \"G:\\My Drive\\Tigmanshu Documents\\Learning\\My GitHub Files\\My Coding Projects\\Boeing Internship 2012\\Function Definitions.py\", line 608, in genetic_algorithm\n",
      "    export_results_to_excel(best_laminate, weight_evolution, cost_evolution, pareto_optimal_weights, pareto_optimal_costs)\n",
      "  File \"G:\\My Drive\\Tigmanshu Documents\\Learning\\My GitHub Files\\My Coding Projects\\Boeing Internship 2012\\Function Definitions.py\", line 583, in export_results_to_excel\n",
      "    writer = pd.ExcelWriter('optimization_results.xlsx', engine='xlsxwriter')\n",
      "             ^^^^^^^^^^^^^^^^^^^^^^^^^^^^^^^^^^^^^^^^^^^^^^^^^^^^^^^^^^^^^^^^\n",
      "  File \"c:\\Users\\kaurm\\anaconda3\\Lib\\site-packages\\pandas\\io\\excel\\_xlsxwriter.py\", line 198, in __init__\n",
      "    from xlsxwriter import Workbook\n",
      "ModuleNotFoundError: No module named 'xlsxwriter'\n",
      "\n",
      "During handling of the above exception, another exception occurred:\n",
      "\n",
      "Traceback (most recent call last):\n",
      "  File \"c:\\Users\\kaurm\\anaconda3\\Lib\\site-packages\\IPython\\core\\interactiveshell.py\", line 2144, in showtraceback\n",
      "    stb = self.InteractiveTB.structured_traceback(\n",
      "          ^^^^^^^^^^^^^^^^^^^^^^^^^^^^^^^^^^^^^^^^\n",
      "  File \"c:\\Users\\kaurm\\anaconda3\\Lib\\site-packages\\IPython\\core\\ultratb.py\", line 1435, in structured_traceback\n",
      "    return FormattedTB.structured_traceback(\n",
      "           ^^^^^^^^^^^^^^^^^^^^^^^^^^^^^^^^^\n",
      "  File \"c:\\Users\\kaurm\\anaconda3\\Lib\\site-packages\\IPython\\core\\ultratb.py\", line 1326, in structured_traceback\n",
      "    return VerboseTB.structured_traceback(\n",
      "           ^^^^^^^^^^^^^^^^^^^^^^^^^^^^^^^\n",
      "  File \"c:\\Users\\kaurm\\anaconda3\\Lib\\site-packages\\IPython\\core\\ultratb.py\", line 1173, in structured_traceback\n",
      "    formatted_exception = self.format_exception_as_a_whole(etype, evalue, etb, number_of_lines_of_context,\n",
      "                          ^^^^^^^^^^^^^^^^^^^^^^^^^^^^^^^^^^^^^^^^^^^^^^^^^^^^^^^^^^^^^^^^^^^^^^^^^^^^^^^^\n",
      "  File \"c:\\Users\\kaurm\\anaconda3\\Lib\\site-packages\\IPython\\core\\ultratb.py\", line 1088, in format_exception_as_a_whole\n",
      "    frames.append(self.format_record(record))\n",
      "                  ^^^^^^^^^^^^^^^^^^^^^^^^^^\n",
      "  File \"c:\\Users\\kaurm\\anaconda3\\Lib\\site-packages\\IPython\\core\\ultratb.py\", line 970, in format_record\n",
      "    frame_info.lines, Colors, self.has_colors, lvals\n",
      "    ^^^^^^^^^^^^^^^^\n",
      "  File \"c:\\Users\\kaurm\\anaconda3\\Lib\\site-packages\\IPython\\core\\ultratb.py\", line 792, in lines\n",
      "    return self._sd.lines\n",
      "           ^^^^^^^^^^^^^^\n",
      "  File \"c:\\Users\\kaurm\\anaconda3\\Lib\\site-packages\\stack_data\\utils.py\", line 145, in cached_property_wrapper\n",
      "    value = obj.__dict__[self.func.__name__] = self.func(obj)\n",
      "                                               ^^^^^^^^^^^^^^\n",
      "  File \"c:\\Users\\kaurm\\anaconda3\\Lib\\site-packages\\stack_data\\core.py\", line 698, in lines\n",
      "    pieces = self.included_pieces\n",
      "             ^^^^^^^^^^^^^^^^^^^^\n",
      "  File \"c:\\Users\\kaurm\\anaconda3\\Lib\\site-packages\\stack_data\\utils.py\", line 145, in cached_property_wrapper\n",
      "    value = obj.__dict__[self.func.__name__] = self.func(obj)\n",
      "                                               ^^^^^^^^^^^^^^\n",
      "  File \"c:\\Users\\kaurm\\anaconda3\\Lib\\site-packages\\stack_data\\core.py\", line 649, in included_pieces\n",
      "    pos = scope_pieces.index(self.executing_piece)\n",
      "                             ^^^^^^^^^^^^^^^^^^^^\n",
      "  File \"c:\\Users\\kaurm\\anaconda3\\Lib\\site-packages\\stack_data\\utils.py\", line 145, in cached_property_wrapper\n",
      "    value = obj.__dict__[self.func.__name__] = self.func(obj)\n",
      "                                               ^^^^^^^^^^^^^^\n",
      "  File \"c:\\Users\\kaurm\\anaconda3\\Lib\\site-packages\\stack_data\\core.py\", line 628, in executing_piece\n",
      "    return only(\n",
      "           ^^^^^\n",
      "  File \"c:\\Users\\kaurm\\anaconda3\\Lib\\site-packages\\executing\\executing.py\", line 164, in only\n",
      "    raise NotOneValueFound('Expected one value, found 0')\n",
      "executing.executing.NotOneValueFound: Expected one value, found 0\n"
     ]
    }
   ],
   "source": [
    "%run \"Function Definitions.py\""
   ]
  }
 ],
 "metadata": {
  "kernelspec": {
   "display_name": "base",
   "language": "python",
   "name": "python3"
  },
  "language_info": {
   "codemirror_mode": {
    "name": "ipython",
    "version": 3
   },
   "file_extension": ".py",
   "mimetype": "text/x-python",
   "name": "python",
   "nbconvert_exporter": "python",
   "pygments_lexer": "ipython3",
   "version": "3.11.7"
  }
 },
 "nbformat": 4,
 "nbformat_minor": 5
}
